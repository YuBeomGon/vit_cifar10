{
 "cells": [
  {
   "cell_type": "code",
   "execution_count": 1,
   "id": "129601b6-9dfb-480d-8cc9-8361f71a3717",
   "metadata": {},
   "outputs": [
    {
     "name": "stderr",
     "output_type": "stream",
     "text": [
      "/home/beomgon/anaconda3/envs/pytorch/lib/python3.8/site-packages/tqdm/auto.py:21: TqdmWarning: IProgress not found. Please update jupyter and ipywidgets. See https://ipywidgets.readthedocs.io/en/stable/user_install.html\n",
      "  from .autonotebook import tqdm as notebook_tqdm\n"
     ]
    }
   ],
   "source": [
    "import os\n",
    "import cv2\n",
    "import sys\n",
    "import random\n",
    "\n",
    "import numpy as np\n",
    "import pandas as pd\n",
    "from PIL import Image\n",
    "import matplotlib.pyplot as plt\n",
    "import torch\n",
    "import torch.nn as nn\n",
    "import torch.optim as optim\n",
    "from torch.utils.data import DataLoader\n",
    "from tqdm import tqdm\n",
    "\n",
    "\n",
    "import torchvision\n",
    "import torchvision.transforms as transforms\n",
    "\n",
    "sys.path.append('../')\n",
    "from models.vit import *"
   ]
  },
  {
   "cell_type": "code",
   "execution_count": 2,
   "id": "b90f5b2d-7aa9-434e-96c1-dc36efd5ae08",
   "metadata": {},
   "outputs": [],
   "source": [
    "def seed_everything(seed):\n",
    "    random.seed(seed)\n",
    "    os.environ['PYTHONHASHSEED'] = str(seed)\n",
    "    np.random.seed(seed)\n",
    "    torch.manual_seed(seed)\n",
    "    torch.cuda.manual_seed(seed)\n",
    "    torch.backends.cudnn.deterministic = True\n",
    "    torch.backends.cudnn.benchmark = True\n",
    "\n",
    "seed_everything(42) # Seed 고정"
   ]
  },
  {
   "cell_type": "code",
   "execution_count": 3,
   "id": "40be6210-5ad6-4b43-b801-6300800379e4",
   "metadata": {},
   "outputs": [],
   "source": [
    "epochs = 90\n",
    "batch_size = 64\n",
    "momentum = 0.9\n",
    "lr = 0.00005\n",
    "weight_decay = 1e-4\n",
    "img_size = 32\n",
    "device = torch.device('cuda:0' if torch.cuda.is_available() else 'cpu')\n",
    "num_workers = os.cpu_count()\n",
    "saved = '../saved/cifar_net_32.pth'"
   ]
  },
  {
   "cell_type": "code",
   "execution_count": 4,
   "id": "31384478-908e-4d70-a1a7-256d34b40e91",
   "metadata": {},
   "outputs": [],
   "source": [
    "train_transforms = transforms.Compose([\n",
    "                    transforms.ColorJitter(0.1,0.1,0.1,0.1),\n",
    "                    transforms.RandomHorizontalFlip(0.5),\n",
    "                    transforms.RandomResizedCrop(img_size, scale=(0.5, 1.0), ratio=(0.75, 1.25)),\n",
    "                    transforms.ToTensor(),\n",
    "                    transforms.Normalize((0.485, 0.456, 0.406), (0.229, 0.224, 0.225))])\n",
    "test_transforms = transforms.Compose([\n",
    "                    transforms.ToTensor(),\n",
    "                    transforms.Normalize((0.485, 0.456, 0.406), (0.229, 0.224, 0.225))])"
   ]
  },
  {
   "cell_type": "code",
   "execution_count": 5,
   "id": "665323ed-62c2-4e60-bbb0-475e89eee25a",
   "metadata": {},
   "outputs": [
    {
     "name": "stdout",
     "output_type": "stream",
     "text": [
      "Files already downloaded and verified\n",
      "Files already downloaded and verified\n"
     ]
    }
   ],
   "source": [
    "train_dataset = torchvision.datasets.CIFAR10('../dataset', train=True, download=True, transform=train_transforms)\n",
    "test_dataset = torchvision.datasets.CIFAR10('../dataset', train=False, download=True, transform=test_transforms)"
   ]
  },
  {
   "cell_type": "code",
   "execution_count": null,
   "id": "29330d93-8cd7-4271-ad64-9e96d65231b9",
   "metadata": {},
   "outputs": [],
   "source": [
    "\n"
   ]
  },
  {
   "cell_type": "code",
   "execution_count": 6,
   "id": "9a5cecbd-9a79-45b6-a55b-c4f3351cb8fb",
   "metadata": {},
   "outputs": [],
   "source": [
    "train_loader = DataLoader(train_dataset, batch_size=batch_size, shuffle=True, num_workers=num_workers)\n",
    "test_loader = DataLoader(test_dataset, batch_size=batch_size, shuffle=False, num_workers=num_workers)"
   ]
  },
  {
   "cell_type": "code",
   "execution_count": 7,
   "id": "289113c2-b007-4ed2-84a6-98bea85fae6e",
   "metadata": {},
   "outputs": [
    {
     "data": {
      "text/plain": [
       "(torch.Size([64, 3, 32, 32]),\n",
       " tensor([6, 0, 4, 1, 2, 7, 9, 4, 7, 8, 4, 5, 6, 0, 4, 2, 0, 1, 6, 1, 4, 3, 2, 3,\n",
       "         2, 4, 0, 7, 5, 1, 8, 6, 3, 3, 7, 0, 4, 1, 7, 1, 3, 1, 1, 5, 6, 3, 7, 8,\n",
       "         2, 3, 4, 8, 2, 1, 5, 6, 9, 9, 6, 9, 8, 3, 4, 7]))"
      ]
     },
     "execution_count": 7,
     "metadata": {},
     "output_type": "execute_result"
    }
   ],
   "source": [
    "images, targets = next(iter(train_loader))\n",
    "images.shape, targets"
   ]
  },
  {
   "cell_type": "code",
   "execution_count": null,
   "id": "0df18e62-99d3-4fdb-a434-4202ddfb0d4b",
   "metadata": {},
   "outputs": [],
   "source": []
  },
  {
   "cell_type": "code",
   "execution_count": 8,
   "id": "e674b2b6-20d6-4c61-9a73-567cfbeb5644",
   "metadata": {},
   "outputs": [],
   "source": [
    "model_args = dict(img_size=img_size, \n",
    "                  patch_size=8, \n",
    "                  embed_dim=192, \n",
    "                  depth=12, \n",
    "                  num_heads=2, \n",
    "                  checkpoint='', \n",
    "                  qk_norm=True, \n",
    "                  v_norm=True, \n",
    "                  patch_stride=4,\n",
    "                  roll=True)\n",
    "model =  vit_small_patch8_32(**model_args)"
   ]
  },
  {
   "cell_type": "code",
   "execution_count": 9,
   "id": "ddda59da-8e38-4362-823a-76b7bd306f57",
   "metadata": {},
   "outputs": [
    {
     "data": {
      "text/plain": [
       "torch.Size([64, 10])"
      ]
     },
     "execution_count": 9,
     "metadata": {},
     "output_type": "execute_result"
    }
   ],
   "source": [
    "out = model(images)\n",
    "out.shape"
   ]
  },
  {
   "cell_type": "code",
   "execution_count": 10,
   "id": "162379b7-0fe2-4f10-86f4-1c487e3ee646",
   "metadata": {},
   "outputs": [],
   "source": [
    "# for name, param in model.named_parameters():\n",
    "#     print(name, param.requires_grad)"
   ]
  },
  {
   "cell_type": "code",
   "execution_count": 11,
   "id": "85a62636-5be1-4084-b012-5123e4e6350a",
   "metadata": {},
   "outputs": [],
   "source": [
    "def imshow(img):\n",
    "    img = img / 2 + 0.5\n",
    "    npimg = img.numpy()\n",
    "    plt.imshow(np.transpose(npimg, (1, 2, 0)))\n",
    "    plt.show()    \n",
    "    "
   ]
  },
  {
   "cell_type": "code",
   "execution_count": 12,
   "id": "e5895f14-3f9f-4b01-b5d3-4db81d219f4e",
   "metadata": {},
   "outputs": [],
   "source": [
    "dataiter = iter(train_loader)\n",
    "images, labels = next(dataiter)"
   ]
  },
  {
   "cell_type": "code",
   "execution_count": 13,
   "id": "f69c9574-d000-44c9-8f23-b6bb536f4bde",
   "metadata": {},
   "outputs": [
    {
     "name": "stderr",
     "output_type": "stream",
     "text": [
      "Clipping input data to the valid range for imshow with RGB data ([0..1] for floats or [0..255] for integers).\n"
     ]
    },
    {
     "data": {
      "image/png": "[encoded data removed]",
      "text/plain": [
       "<Figure size 640x480 with 1 Axes>"
      ]
     },
     "metadata": {},
     "output_type": "display_data"
    }
   ],
   "source": [
    "imshow(torchvision.utils.make_grid(images[:4]))"
   ]
  },
  {
   "cell_type": "code",
   "execution_count": null,
   "id": "78c6854f-e723-42a4-8f83-bedec29e1e30",
   "metadata": {},
   "outputs": [],
   "source": []
  },
  {
   "cell_type": "code",
   "execution_count": 14,
   "id": "d0bf12f4-4cc1-4144-b0ed-5882485ce307",
   "metadata": {},
   "outputs": [],
   "source": [
    "\n",
    "criterion = nn.CrossEntropyLoss().to(device)\n",
    "optimizer = optim.SGD(model.parameters(), lr=lr, momentum=momentum, )\n",
    "# scheduler = optim.lr_scheduler.StepLR(optimizer, step_size=10, gamma=0.1)\n",
    "# scheduler = optim.lr_scheduler.CyclicLR(optimizer, base_lr=0.001, max_lr=0.1, step_size_up=5, \n",
    "#                                         step_size_down=None, mode='exp_range', gamma=0.995)\n",
    "from utils.scheduler import CosineAnnealingWarmUpRestarts\n",
    "scheduler = CosineAnnealingWarmUpRestarts(optimizer, T_0=30, T_mult=1, eta_max=0.1,  T_up=6, gamma=0.25)\n",
    "\n",
    "model = model.to(device)"
   ]
  },
  {
   "cell_type": "code",
   "execution_count": 15,
   "id": "24601506-198d-4df4-a159-51921b2e8a7e",
   "metadata": {},
   "outputs": [],
   "source": [
    "from utils.train import get_acc"
   ]
  },
  {
   "cell_type": "code",
   "execution_count": null,
   "id": "7743244e-a4ef-4f1d-97e4-fdf32c24953a",
   "metadata": {},
   "outputs": [
    {
     "name": "stdout",
     "output_type": "stream",
     "text": [
      "1 loss: 2.011 acc: 33.39 lr: 0.00005\n",
      "2 loss: 1.729 acc: 44.06 lr: 0.01671\n",
      "3 loss: 1.513 acc: 46.11 lr: 0.03337\n",
      "4 loss: 1.414 acc: 51.38 lr: 0.05003\n",
      "5 loss: 1.355 acc: 51.76 lr: 0.06668\n",
      "6 loss: 1.299 acc: 56.06 lr: 0.08334\n",
      "7 loss: 1.251 acc: 58.81 lr: 0.10000\n",
      "8 loss: 1.193 acc: 59.69 lr: 0.09957\n",
      "9 loss: 1.128 acc: 59.50 lr: 0.09830\n",
      "10 loss: 1.076 acc: 62.95 lr: 0.09620\n",
      "11 loss: 1.026 acc: 63.25 lr: 0.09330\n",
      "12 loss: 0.984 acc: 65.20 lr: 0.08967\n",
      "13 loss: 0.948 acc: 67.87 lr: 0.08536\n",
      "14 loss: 0.903 acc: 68.76 lr: 0.08045\n",
      "15 loss: 0.872 acc: 66.80 lr: 0.07501\n",
      "16 loss: 0.844 acc: 68.81 lr: 0.06915\n",
      "17 loss: 0.803 acc: 72.49 lr: 0.06296\n",
      "18 loss: 0.769 acc: 72.18 lr: 0.05655\n",
      "19 loss: 0.740 acc: 72.80 lr: 0.05003\n",
      "20 loss: 0.707 acc: 74.31 lr: 0.04350\n",
      "21 loss: 0.676 acc: 75.68 lr: 0.03709\n",
      "22 loss: 0.645 acc: 76.28 lr: 0.03090\n",
      "23 loss: 0.618 acc: 77.20 lr: 0.02504\n"
     ]
    }
   ],
   "source": [
    "best_acc = 0.\n",
    "val_acc_list = []\n",
    "for epoch in (range(epochs)):\n",
    "    running_loss = []\n",
    "    model.train()\n",
    "    for i, data in (enumerate(train_loader)):\n",
    "        images, targets = data\n",
    "        images, targets = images.to(device), targets.to(device)\n",
    "        \n",
    "        outputs = model(images)\n",
    "        loss = criterion(outputs, targets)\n",
    "        \n",
    "        optimizer.zero_grad()\n",
    "        loss.backward()\n",
    "        optimizer.step()\n",
    "        \n",
    "        running_loss.append(loss.item())\n",
    "    # print(f'[{epoch + 1}, {i + 1:5d}] loss: {running_loss / 2000:.3f}')\n",
    "    test_acc = get_acc(test_loader, model, device)\n",
    "    val_acc_list.append(test_acc)\n",
    "    if best_acc < test_acc:\n",
    "        best_acc = test_acc\n",
    "        torch.save(model.state_dict(), saved)\n",
    "\n",
    "    lr = optimizer.param_groups[0]['lr']\n",
    "    print(f'{epoch + 1} loss: {sum(running_loss)/len(running_loss):.3f} acc: {test_acc:.2f} lr: {lr:.5f}')\n",
    "    if scheduler :\n",
    "        scheduler.step()\n"
   ]
  },
  {
   "cell_type": "code",
   "execution_count": null,
   "id": "6f3d7f82-7db9-4733-aafe-837d049ca168",
   "metadata": {},
   "outputs": [],
   "source": [
    "# Plot loss per iteration\n",
    "import matplotlib.pyplot as plt\n",
    "plt.rcParams['figure.figsize'] = [10,5]\n",
    "plt.plot(val_acc_list, label='val_acc')\n",
    "plt.legend()\n"
   ]
  },
  {
   "cell_type": "code",
   "execution_count": null,
   "id": "477d37f9-3a7e-4205-940c-433c5dbceadb",
   "metadata": {},
   "outputs": [],
   "source": [
    "from utils.train import get_all_preds\n",
    "test_preds = get_all_preds(model.to('cpu'), test_loader)\n",
    "actual_labels = torch.Tensor(test_dataset.targets)\n",
    "preds_correct = test_preds.argmax(dim=1).eq(actual_labels).sum().item()\n",
    "\n",
    "print('total correct:', preds_correct)\n",
    "print('accuracy:', preds_correct / len(test_dataset))"
   ]
  },
  {
   "cell_type": "code",
   "execution_count": null,
   "id": "048caef1-f4b9-43e2-aba3-299b0af10eb2",
   "metadata": {},
   "outputs": [],
   "source": [
    "from utils.visualize import plot_confusion_matrix\n",
    "from sklearn.metrics import confusion_matrix\n",
    "\n",
    "cm = confusion_matrix(test_dataset.targets, test_preds.argmax(dim=1))\n",
    "classes = ('plane', 'car', 'bird', 'cat', 'deer', 'dog', 'frog', 'horse', 'ship', 'truck')\n",
    "plt.figure(figsize=(6,6))\n",
    "plot_confusion_matrix(cm, classes)"
   ]
  },
  {
   "cell_type": "code",
   "execution_count": null,
   "id": "28462228-5dc3-419a-8568-224dbfa85867",
   "metadata": {},
   "outputs": [],
   "source": [
    "vis_transforms = transforms.Compose([\n",
    "                    transforms.Resize((img_size, img_size)),\n",
    "                    transforms.ToTensor(),\n",
    "                    transforms.Normalize((0.485, 0.456, 0.406), (0.229, 0.224, 0.225))])"
   ]
  },
  {
   "cell_type": "code",
   "execution_count": null,
   "id": "59acbb21-6803-4879-a456-13ebe8195ff3",
   "metadata": {},
   "outputs": [],
   "source": [
    "input_tensor.device"
   ]
  },
  {
   "cell_type": "code",
   "execution_count": null,
   "id": "f78f17d9-1954-4ac8-b5ca-88515dcefd78",
   "metadata": {},
   "outputs": [],
   "source": [
    "# model"
   ]
  },
  {
   "cell_type": "code",
   "execution_count": null,
   "id": "357626a6-0169-4dd2-850d-df027c485490",
   "metadata": {},
   "outputs": [],
   "source": [
    "\n",
    "from utils.visualize import VITAttentionRollout, show_mask_on_image\n",
    "discard_ratio = 0.99 \n",
    "head_fusion = 'min'\n",
    "img = Image.open('dog_cat.png')\n",
    "img = img.resize((224, 224))\n",
    "input_tensor = vis_transforms(img).unsqueeze(0).to(device)\n",
    "model.to(device)\n",
    "\n",
    "attention_rollout = VITAttentionRollout(model, head_fusion=head_fusion, \n",
    "            discard_ratio=discard_ratio)\n",
    "mask = attention_rollout(input_tensor)\n",
    "name = \"attention_rollout_{:.3f}_{}.png\".format(discard_ratio, head_fusion)\n",
    "\n",
    "\n",
    "np_img = np.array(img)[:, :, ::-1]\n",
    "mask = cv2.resize(mask, (np_img.shape[1], np_img.shape[0]))\n",
    "mask = show_mask_on_image(np_img, mask)\n",
    "# cv2.imshow(\"Input Image\", np_img)\n",
    "# cv2.imshow(name, mask)\n",
    "plt.imshow(img)\n",
    "plt.show()\n",
    "# plt.imshow(name, mask)\n",
    "# cv2.imwrite(\"input.png\", np_img)\n",
    "# cv2.imwrite(name, mask)\n",
    "# cv2.waitKey(-1)\n"
   ]
  },
  {
   "cell_type": "code",
   "execution_count": null,
   "id": "2b4a2de0-d028-4bee-b23b-ae0b575fb51a",
   "metadata": {},
   "outputs": [],
   "source": [
    "plt.imshow(mask)\n",
    "plt.show()"
   ]
  },
  {
   "cell_type": "code",
   "execution_count": null,
   "id": "827f6c4b-e164-4c3c-bced-8ac50f92f91b",
   "metadata": {},
   "outputs": [],
   "source": []
  },
  {
   "cell_type": "code",
   "execution_count": null,
   "id": "218d363a-2aed-49fb-ae5c-3c027a2428da",
   "metadata": {},
   "outputs": [],
   "source": []
  }
 ],
 "metadata": {
  "kernelspec": {
   "display_name": "pytorch",
   "language": "python",
   "name": "pytorch"
  },
  "language_info": {
   "codemirror_mode": {
    "name": "ipython",
    "version": 3
   },
   "file_extension": ".py",
   "mimetype": "text/x-python",
   "name": "python",
   "nbconvert_exporter": "python",
   "pygments_lexer": "ipython3",
   "version": "3.8.15"
  }
 },
 "nbformat": 4,
 "nbformat_minor": 5
}
